{
 "cells": [
  {
   "cell_type": "markdown",
   "metadata": {
    "heading_collapsed": true
   },
   "source": [
    "# Linear Regression"
   ]
  },
  {
   "cell_type": "markdown",
   "metadata": {
    "heading_collapsed": true,
    "hidden": true
   },
   "source": [
    "## 推导"
   ]
  },
  {
   "cell_type": "markdown",
   "metadata": {
    "hidden": true
   },
   "source": [
    "模型\n",
    "$$\\large\\displaystyle y = \\hat{X}w \\tag{1.1}$$\n",
    "其中，$\\hat{X}$ 维度是 $m \\times (n+1)$，最后一列全是1；$w$ 的维度是 $(n+1) \\times 1$，最后一个元素表示偏置b（或者截距）。\n",
    "\n",
    "目标函数\n",
    "\n",
    "$$\\large\\displaystyle J(w) = \\frac{1}{2m} (y - \\hat{X}w)^{T}(y - \\hat{X}w) \\tag{1.2}$$\n",
    "一阶、二阶导数如下\n",
    "$$\\large\\displaystyle \\frac{\\partial{J(w)}}{\\partial{w}} = \\frac{1}{m}\\hat{X}^{T}(\\hat{X}w-y) \\tag{1.3}$$\n",
    "\n",
    "$$\\large\\displaystyle \\frac{\\partial{J(w)}}{\\partial{w}\\partial{w^{T}}} = \\frac{1}{m}\\hat{X}^{T}\\hat{X}{\\tag{1.4}}$$\n",
    "当导数等于0时，有\n",
    "$$\\large\\displaystyle \\hat{X}^{T}\\hat{X}w = \\hat{X}^{T}y \\tag{1.5}$$\n",
    "\n",
    "这里 $\\hat{X}^{T}\\hat{X}$ 为半正定矩阵（证明见1.2.1）：\n",
    "- 当 $\\hat{X}^{T}\\hat{X}$ 满秩时，$\\frac{\\partial{J(w)}}{\\partial{w}\\partial{w^{T}}}$ 为严格正定矩阵时，$J(w)$ 在一阶导数等于0的点处取得极小值（判定定理见1.2.2）。此时，$\\hat{w} = (\\hat{X}^{T}\\hat{X})^{-1} \\hat{X}^{T}y$，且 $\\hat{X}^{T}\\hat{X}$ 可逆，故 $\\hat{w}$ 唯一，从而 $J(w)$ 在此处取得最小值。\n",
    "\n",
    "- 当 $\\hat{X}^{T}\\hat{X}$ 不是满秩时，由 $(1.5)$ 可以解出无穷多个 $\\hat{w}$ 。$\\hat{w}$ 为可疑极值点，需要用其它方法来判定。\n",
    "此时，可以使用梯度下降法来求解。\n",
    "$$\\large\\displaystyle w_{new} = w_{old} - \\alpha \\frac{\\partial{J(w)}}{\\partial{w}}$$"
   ]
  },
  {
   "cell_type": "markdown",
   "metadata": {
    "hidden": true
   },
   "source": [
    "## 相关证明及定理"
   ]
  },
  {
   "cell_type": "markdown",
   "metadata": {
    "heading_collapsed": true,
    "hidden": true
   },
   "source": [
    "### 半正定矩阵的证明"
   ]
  },
  {
   "cell_type": "markdown",
   "metadata": {
    "hidden": true
   },
   "source": [
    "证明：$\\hat{X}^{T}\\hat{X}$ 为半正定矩阵。\n",
    "\n",
    "设 $\\lambda$ 和 $\\xi (\\xi \\neq 0)$ 分别为矩阵 $\\hat{X}^{T}\\hat{X}$ 的特征值和对应的特征向量。则有\n",
    "$$\\hat{X}^{T}\\hat{X}\\xi = \\lambda \\xi $$\n",
    "在等式两边右乘 $\\xi^{T}$，有\n",
    "$$\\xi^{T}\\hat{X}^{T}\\hat{X}\\xi = \\lambda \\xi^{T} \\xi$$\n",
    "则\n",
    "$$\\lambda = \\frac{|\\hat{X}\\xi|^{2}}{|\\xi|^{2}} \\geq 0$$\n",
    "故 $\\hat{X}^{T}\\hat{X}$ 为半正定矩阵。"
   ]
  },
  {
   "cell_type": "markdown",
   "metadata": {
    "heading_collapsed": true,
    "hidden": true
   },
   "source": [
    "### Hessian矩阵判断极值"
   ]
  },
  {
   "cell_type": "markdown",
   "metadata": {
    "hidden": true
   },
   "source": [
    "![avatar](HessianMatrix.png)"
   ]
  },
  {
   "cell_type": "markdown",
   "metadata": {
    "heading_collapsed": true,
    "hidden": true
   },
   "source": [
    "## 实现"
   ]
  },
  {
   "cell_type": "code",
   "execution_count": 1,
   "metadata": {
    "hidden": true
   },
   "outputs": [],
   "source": [
    "import numpy as np\n",
    "import matplotlib.pyplot as plt\n",
    "from sklearn import datasets\n",
    "from sklearn.preprocessing import StandardScaler\n",
    "plt.style.use(\"ggplot\")\n",
    "%matplotlib inline"
   ]
  },
  {
   "cell_type": "code",
   "execution_count": 2,
   "metadata": {
    "hidden": true
   },
   "outputs": [],
   "source": [
    "class LinearRegression:\n",
    "\n",
    "    def __init__(self, max_iter=200, learning_rate=0.01):\n",
    "        self.w = None\n",
    "        self.max_iter = max_iter\n",
    "        self.learning_rate = learning_rate\n",
    "        self.cost = []\n",
    "\n",
    "    def fit(self, X, y):\n",
    "        m, n = X.shape\n",
    "        n += 1\n",
    "        X = np.hstack((X, np.ones((m, 1))))\n",
    "        self.w = np.random.normal(size=(n, 1))\n",
    "        y = y.reshape((m, 1))\n",
    "        it = 0\n",
    "        while it < self.max_iter:\n",
    "            dw = X.T @ (X @ self.w - y) / m\n",
    "            self.w = self.w - self.learning_rate * dw\n",
    "            c = np.power(y - X @ self.w, 2).mean()  / 2\n",
    "            self.cost.append(c)\n",
    "            it += 1\n",
    "\n",
    "        return self\n",
    "\n",
    "    def predict(self, X):\n",
    "        m, n = X.shape\n",
    "        n += 1\n",
    "        X = np.hstack((X, np.ones((m, 1))))\n",
    "        y_ = X @ self.w\n",
    "        return y_"
   ]
  },
  {
   "cell_type": "code",
   "execution_count": 3,
   "metadata": {
    "hidden": true
   },
   "outputs": [],
   "source": [
    "X, y = datasets.load_diabetes(return_X_y=True)\n",
    "scaler = StandardScaler()\n",
    "scaler.fit(X)\n",
    "X = scaler.transform(X)\n",
    "# 标准化之后可以加快梯度下降收敛的速度"
   ]
  },
  {
   "cell_type": "code",
   "execution_count": 4,
   "metadata": {
    "hidden": true
   },
   "outputs": [
    {
     "name": "stdout",
     "output_type": "stream",
     "text": [
      "(442, 10)\n",
      "(442, 10)\n"
     ]
    }
   ],
   "source": [
    "reg = LinearRegression(max_iter= 100, learning_rate= 0.1)\n",
    "reg.fit(X, y)\n",
    "y_ = reg.predict(X)"
   ]
  },
  {
   "cell_type": "code",
   "execution_count": 90,
   "metadata": {
    "hidden": true
   },
   "outputs": [
    {
     "data": {
      "text/plain": [
       "Text(0.5, 0, 'No. of iterations')"
      ]
     },
     "execution_count": 90,
     "metadata": {},
     "output_type": "execute_result"
    },
    {
     "data": {
      "image/png": "[encoded data removed]",
      "text/plain": [
       "<Figure size 432x288 with 1 Axes>"
      ]
     },
     "metadata": {
      "needs_background": "light"
     },
     "output_type": "display_data"
    }
   ],
   "source": [
    "it = [i for i in range(len(reg.cost))]\n",
    "plt.plot(it, reg.cost)\n",
    "plt.ylabel(\"$J(w)$\")\n",
    "plt.xlabel(\"No. of iterations\")"
   ]
  },
  {
   "cell_type": "code",
   "execution_count": 91,
   "metadata": {
    "hidden": true
   },
   "outputs": [
    {
     "data": {
      "text/plain": [
       "[<matplotlib.lines.Line2D at 0x24ff0ad8288>]"
      ]
     },
     "execution_count": 91,
     "metadata": {},
     "output_type": "execute_result"
    },
    {
     "data": {
      "image/png": "[encoded data removed]",
      "text/plain": [
       "<Figure size 432x288 with 1 Axes>"
      ]
     },
     "metadata": {
      "needs_background": "light"
     },
     "output_type": "display_data"
    }
   ],
   "source": [
    "plt.scatter(y, y_, edgecolors=(0, 0, 0))\n",
    "plt.xlabel(\"Measured\")\n",
    "plt.ylabel(\"Predicted\")\n",
    "x = np.linspace(y.min(), y.max())\n",
    "plt.plot(x, x, '--k')"
   ]
  },
  {
   "cell_type": "code",
   "execution_count": 92,
   "metadata": {
    "hidden": true
   },
   "outputs": [
    {
     "data": {
      "text/plain": [
       "Text(0.5, 1.0, 'weights')"
      ]
     },
     "execution_count": 92,
     "metadata": {},
     "output_type": "execute_result"
    },
    {
     "data": {
      "image/png": "[encoded data removed]",
      "text/plain": [
       "<Figure size 432x288 with 1 Axes>"
      ]
     },
     "metadata": {
      "needs_background": "light"
     },
     "output_type": "display_data"
    }
   ],
   "source": [
    "n = X.shape[1] + 1\n",
    "plt.bar([i for i in range(n)],reg.w.reshape((-1,)))\n",
    "plt.title(\"weights\")"
   ]
  },
  {
   "cell_type": "markdown",
   "metadata": {
    "hidden": true
   },
   "source": [
    "## 线性回归推广 "
   ]
  },
  {
   "cell_type": "markdown",
   "metadata": {
    "heading_collapsed": true,
    "hidden": true
   },
   "source": [
    "###  Ridge Regression"
   ]
  },
  {
   "cell_type": "markdown",
   "metadata": {
    "hidden": true
   },
   "source": [
    "在线性回归的基础上添加一个$l_{2}$的正则项，目标函数为\n",
    "$$\\large\\displaystyle J(w) = \\frac{1}{2m} [(y - \\hat{X}w)^{T}(y - \\hat{X}w) + \\lambda w^{T}w]$$\n",
    "\n",
    "一阶导数为\n",
    "$$\\large\\displaystyle \\frac{\\partial{J(w)}}{\\partial{w}} = \\frac{1}{m}[\\hat{X}^{T}(\\hat{X}w-y) + \\lambda w]$$\n",
    "\n",
    "梯度下降\n",
    "\n",
    "$$\\large\\displaystyle w_{new} = w_{old} - \\alpha \\frac{\\partial{J(w)}}{\\partial{w}}$$"
   ]
  },
  {
   "cell_type": "code",
   "execution_count": 104,
   "metadata": {
    "hidden": true
   },
   "outputs": [],
   "source": [
    "class RidgeRegression:\n",
    "\n",
    "    def __init__(self, max_iter=200, learning_rate=0.001, alpha=1.0):\n",
    "        self.w = None\n",
    "        self.max_iter = max_iter\n",
    "        self.learning_rate = learning_rate\n",
    "        self.alpha = alpha\n",
    "        self.cost = []\n",
    "\n",
    "    def fit(self, X, y):\n",
    "        m, n = X.shape\n",
    "        n += 1\n",
    "        X = np.hstack((X, np.ones((m, 1))))\n",
    "        self.w = np.random.normal(size=(n, 1))\n",
    "        y = y.reshape((m, 1))\n",
    "        it = 0\n",
    "        while it < self.max_iter:\n",
    "            dw = (X.T @ (X @ self.w - y) + self.alpha * self.w) / m\n",
    "            self.w = self.w - self.learning_rate * dw\n",
    "            c = (np.power(y - X @ self.w, 2) +\n",
    "                 self.alpha * self.w.T @ self.w).mean() / 2\n",
    "            self.cost.append(c)\n",
    "            it += 1\n",
    "\n",
    "        return self\n",
    "\n",
    "    def predict(self, X):\n",
    "        m, n = X.shape\n",
    "        n += 1\n",
    "        X = np.hstack((X, np.ones((m, 1))))\n",
    "        y_ = X @ self.w\n",
    "        return y_\n"
   ]
  },
  {
   "cell_type": "code",
   "execution_count": 137,
   "metadata": {
    "hidden": true
   },
   "outputs": [],
   "source": [
    "reg1 = RidgeRegression(max_iter= 1000, learning_rate= 0.011, alpha=0.01)\n",
    "reg1.fit(X, y)\n",
    "y_ = reg1.predict(X)"
   ]
  },
  {
   "cell_type": "code",
   "execution_count": 138,
   "metadata": {
    "hidden": true
   },
   "outputs": [
    {
     "data": {
      "text/plain": [
       "Text(0.5, 0, 'No. of iterations')"
      ]
     },
     "execution_count": 138,
     "metadata": {},
     "output_type": "execute_result"
    },
    {
     "data": {
      "image/png": "[encoded data removed]",
      "text/plain": [
       "<Figure size 432x288 with 1 Axes>"
      ]
     },
     "metadata": {
      "needs_background": "light"
     },
     "output_type": "display_data"
    }
   ],
   "source": [
    "it = [i for i in range(len(reg1.cost))]\n",
    "plt.plot(it, reg1.cost)\n",
    "plt.ylabel(\"$J(w)$\")\n",
    "plt.xlabel(\"No. of iterations\")"
   ]
  },
  {
   "cell_type": "code",
   "execution_count": 139,
   "metadata": {
    "hidden": true
   },
   "outputs": [
    {
     "data": {
      "text/plain": [
       "[<matplotlib.lines.Line2D at 0x24ff3abf088>]"
      ]
     },
     "execution_count": 139,
     "metadata": {},
     "output_type": "execute_result"
    },
    {
     "data": {
      "image/png": "[encoded data removed]",
      "text/plain": [
       "<Figure size 432x288 with 1 Axes>"
      ]
     },
     "metadata": {
      "needs_background": "light"
     },
     "output_type": "display_data"
    }
   ],
   "source": [
    "plt.scatter(y, y_, edgecolors=(0, 0, 0))\n",
    "plt.xlabel(\"Measured\")\n",
    "plt.ylabel(\"Predicted\")\n",
    "x = np.linspace(y.min(), y.max())\n",
    "plt.plot(x, x, '--k')"
   ]
  },
  {
   "cell_type": "code",
   "execution_count": 140,
   "metadata": {
    "hidden": true
   },
   "outputs": [
    {
     "data": {
      "text/plain": [
       "Text(0.5, 1.0, 'weights')"
      ]
     },
     "execution_count": 140,
     "metadata": {},
     "output_type": "execute_result"
    },
    {
     "data": {
      "image/png": "[encoded data removed]",
      "text/plain": [
       "<Figure size 432x288 with 1 Axes>"
      ]
     },
     "metadata": {
      "needs_background": "light"
     },
     "output_type": "display_data"
    }
   ],
   "source": [
    "n = X.shape[1] + 1\n",
    "plt.bar([i for i in range(n)],reg1.w.reshape((-1,)))\n",
    "plt.title(\"weights\")"
   ]
  },
  {
   "cell_type": "markdown",
   "metadata": {
    "heading_collapsed": true
   },
   "source": [
    "# Logistic Regression"
   ]
  },
  {
   "cell_type": "markdown",
   "metadata": {
    "heading_collapsed": true,
    "hidden": true
   },
   "source": [
    "## 推导 "
   ]
  },
  {
   "cell_type": "markdown",
   "metadata": {
    "hidden": true
   },
   "source": [
    "损失函数\n",
    "$$\n",
    "\\begin{array}{rcl}\n",
    "\\large\\displaystyle J(w) \n",
    "& = & \\large\\displaystyle - \\frac{1}{m} \\sum^{m}_{i=1} [ y^{(i)}\\ln{h(x^{(i)})} + (1 - y^{(i)})\\ln(1 - h(x^{(i)}))] \\\\\n",
    "& = & \\large\\displaystyle - \\frac{1}{m} [y^{T} ln(h(X)) + (1 - y)^{T} ln(1 - h(X)) ]\n",
    "\\end{array}\n",
    "$$\n",
    "\n",
    "$$\\large\\displaystyle h(x) = g(xw) = \\frac{1}{1 + e^{-xw}}$$\n",
    "\n",
    "一阶导数为\n",
    "$$\n",
    "\\begin{array}{rcl}\n",
    "\\large\\displaystyle \\frac{\\partial{J(w)}}{\\partial{w_{j}}} \n",
    "& = & \\large\\displaystyle - \\frac{1}{m} \\sum^{m}_{i=1} [ y^{(i)} \\frac{\\frac{\\partial{h(x^{(i)})}}{\\partial{w_{j}}}}{h(x^{(i)})} + (1 - y^{(i)}) \\frac{- \\frac{\\partial{h(x^{(i)})}}{\\partial{w_{j}}} }{1 - h(x^{(i)})} ] \\\\\n",
    "& = & \\large\\displaystyle - \\frac{1}{m} \\sum^{m}_{i=1} [ y^{(i)} \\frac{h(x^{(i)})(1 - h(x^{(i)}))}{h(x^{(i)})} x^{(i)}_{j} + (1 - y^{(i)}) \\frac{- h(x^{(i)}) (1 - h(x^{(i)})) }{1 - h(x^{(i)})} x^{(i)}_{j} ] \\\\\n",
    "& = & \\large\\displaystyle \\frac{1}{m} \\sum^{m}_{i=1} (h(x^{(i)}) - y^{(i)}) x^{(i)}_{j}\n",
    "\\end{array}\n",
    "$$\n",
    "\n",
    "$$\\large\\displaystyle\n",
    "\\text{向量化}\\Rightarrow\n",
    "\\frac{\\partial{J(w)}}{\\partial{w}} = \\frac{1}{m} X^{T} (h(X) - y)\n",
    "$$\n",
    "\n",
    "梯度下降\n",
    "$$\\large\\displaystyle\n",
    "w = w - \\alpha \\frac{\\partial{J(w)}}{\\partial{w}}\n",
    "$$\n",
    "\n",
    "预测\n",
    "$$\\large\\displaystyle\n",
    "\\hat{y} = \\left\\{ {1,\\hspace{9pt} h(x) \\geq 0.5}\n",
    "\\atop{0,\\hspace{9pt} h(x) < 0.5}\n",
    "\\right.\n",
    "$$"
   ]
  },
  {
   "cell_type": "markdown",
   "metadata": {
    "heading_collapsed": true,
    "hidden": true
   },
   "source": [
    "## 实现"
   ]
  },
  {
   "cell_type": "code",
   "execution_count": 1,
   "metadata": {
    "ExecuteTime": {
     "end_time": "2020-02-03T15:16:08.292132Z",
     "start_time": "2020-02-03T15:16:07.508983Z"
    },
    "hidden": true
   },
   "outputs": [],
   "source": [
    "import numpy as np\n",
    "import matplotlib.pyplot as plt\n",
    "from sklearn import datasets\n",
    "from sklearn.preprocessing import MinMaxScaler\n",
    "plt.style.use(\"ggplot\")\n",
    "%matplotlib inline"
   ]
  },
  {
   "cell_type": "code",
   "execution_count": null,
   "metadata": {
    "ExecuteTime": {
     "end_time": "2020-02-03T15:16:09.296017Z",
     "start_time": "2020-02-03T15:16:09.287025Z"
    },
    "hidden": true
   },
   "outputs": [],
   "source": [
    "def sigmoid(z):\n",
    "    return 1.0 / (1 + np.exp(-z))\n",
    "\n",
    "\n",
    "class LogisticRegression:\n",
    "\n",
    "    def __init__(self, max_iter=200, learning_rate=0.01):\n",
    "        self.max_iter = max_iter\n",
    "        self.learning_rate = learning_rate\n",
    "        self.w = None\n",
    "        self.cost = []\n",
    "        self.acc = []\n",
    "\n",
    "    def fit(self, X, y):\n",
    "        m, n = X.shape\n",
    "        y = y.reshape((m, 1))\n",
    "        X_ = np.hstack((X, np.ones((m, 1))))\n",
    "        n += 1\n",
    "        np.random.seed(1.0)\n",
    "        self.w = np.random.poisson(size = (n, 1))\n",
    "        it = 0\n",
    "        while it < self.max_iter:\n",
    "            dw = X_.T @ (sigmoid(X_ @ self.w) - y) / m \n",
    "            self.w = self.w - self.learning_rate * dw\n",
    "            h = sigmoid(X_ @ self.w)\n",
    "            c = (y * np.log(h) + (1 - y) * np.log(1 - h)).sum() / (-m)\n",
    "            self.cost.append(c)\n",
    "            y_ = self.predict(X)\n",
    "            self.acc.append((y_ == y.squeeze()).mean())\n",
    "            it += 1\n",
    "        return self\n",
    "\n",
    "    def predict(self, X):\n",
    "        m, n = X.shape\n",
    "        X_ = np.hstack((X, np.ones((m, 1))))\n",
    "        n += 1\n",
    "        y_ = sigmoid(X_ @ self.w)\n",
    "        y_ = y_.squeeze()\n",
    "        mask =( y_ >= 0.5)\n",
    "        y_[mask] = 1\n",
    "        y_[~mask] = 0\n",
    "        return y_"
   ]
  },
  {
   "cell_type": "code",
   "execution_count": 3,
   "metadata": {
    "ExecuteTime": {
     "end_time": "2020-02-03T15:16:09.296017Z",
     "start_time": "2020-02-03T15:16:09.287025Z"
    },
    "hidden": true
   },
   "outputs": [],
   "source": [
    "X, y = datasets.load_wine(return_X_y=True)\n",
    "mask = y < 2\n",
    "y = y[mask]\n",
    "X = X[mask,:]\n",
    "print(X.shape)"
   ]
  },
  {
   "cell_type": "code",
   "execution_count": 5,
   "metadata": {
    "ExecuteTime": {
     "end_time": "2020-02-03T15:16:10.777984Z",
     "start_time": "2020-02-03T15:16:10.773989Z"
    },
    "hidden": true
   },
   "outputs": [],
   "source": [
    "scaler = MinMaxScaler()\n",
    "scaler.fit(X)\n",
    "X = scaler.transform(X)"
   ]
  },
  {
   "cell_type": "code",
   "execution_count": 6,
   "metadata": {
    "ExecuteTime": {
     "end_time": "2020-02-03T15:16:11.476915Z",
     "start_time": "2020-02-03T15:16:11.410952Z"
    },
    "hidden": true
   },
   "outputs": [
    {
     "name": "stdout",
     "output_type": "stream",
     "text": [
      "(130, 13)\n",
      "acc: 97.69%\n"
     ]
    }
   ],
   "source": [
    "clf = LogisticRegression(max_iter= 500, learning_rate=0.2)\n",
    "clf.fit(X, y)\n",
    "print(X.shape)\n",
    "y_ = clf.predict(X)\n",
    "print(\"acc: %.2f%%\" % ((y_ == y).mean() * 100))"
   ]
  },
  {
   "cell_type": "code",
   "execution_count": 7,
   "metadata": {
    "ExecuteTime": {
     "end_time": "2020-02-03T15:16:13.145101Z",
     "start_time": "2020-02-03T15:16:12.665016Z"
    },
    "hidden": true
   },
   "outputs": [
    {
     "data": {
      "text/plain": [
       "Text(0.5, 0, 'No. of iterations')"
      ]
     },
     "execution_count": 7,
     "metadata": {},
     "output_type": "execute_result"
    },
    {
     "data": {
      "image/png": "[encoded data removed]",
      "text/plain": [
       "<Figure size 648x288 with 2 Axes>"
      ]
     },
     "metadata": {
      "needs_background": "light"
     },
     "output_type": "display_data"
    }
   ],
   "source": [
    "it = [i for i in range(len(clf.cost))]\n",
    "plt.figure(figsize=(9,4))\n",
    "plt.subplot(121)\n",
    "plt.plot(it, clf.cost,'g')\n",
    "plt.ylabel(\"$J(w)$\")\n",
    "plt.xlabel(\"No. of iterations\")\n",
    "plt.subplot(122)\n",
    "plt.plot(it, clf.acc,'g')\n",
    "plt.ylabel(\"acc\")\n",
    "plt.xlabel(\"No. of iterations\")"
   ]
  },
  {
   "cell_type": "markdown",
   "metadata": {
    "hidden": true
   },
   "source": [
    "## 习题 "
   ]
  },
  {
   "cell_type": "code",
   "execution_count": 8,
   "metadata": {
    "ExecuteTime": {
     "end_time": "2020-02-03T15:16:18.827841Z",
     "start_time": "2020-02-03T15:16:18.792862Z"
    },
    "hidden": true
   },
   "outputs": [],
   "source": [
    "from sklearn.model_selection import StratifiedKFold, LeaveOneOut "
   ]
  },
  {
   "cell_type": "code",
   "execution_count": 13,
   "metadata": {
    "ExecuteTime": {
     "end_time": "2020-02-03T15:23:20.862671Z",
     "start_time": "2020-02-03T15:23:20.384725Z"
    },
    "hidden": true
   },
   "outputs": [
    {
     "name": "stdout",
     "output_type": "stream",
     "text": [
      "[0.9230769230769231, 0.9230769230769231, 0.9230769230769231, 1.0, 0.9230769230769231, 0.8461538461538461, 1.0, 1.0, 1.0, 1.0]\n",
      "0.9538461538461538\n"
     ]
    }
   ],
   "source": [
    "acc_list = []\n",
    "sum_acc = 0.0\n",
    "skf = StratifiedKFold(n_splits=10)\n",
    "for train_index, test_index in skf.split(X, y):\n",
    "    X_train, X_test = X[train_index], X[test_index]\n",
    "    y_train, y_test = y[train_index], y[test_index]\n",
    "    clf = LogisticRegression(max_iter=500,learning_rate=0.2)\n",
    "    clf.fit(X_train, y_train)\n",
    "    y_pred = clf.predict(X_test)\n",
    "    acc = (y_pred == y_test).mean()\n",
    "    acc_list.append(acc)\n",
    "    sum_acc += acc\n",
    "print(acc_list)\n",
    "print(sum_acc / 10.0)"
   ]
  },
  {
   "cell_type": "code",
   "execution_count": 15,
   "metadata": {
    "ExecuteTime": {
     "end_time": "2020-02-03T15:29:42.458657Z",
     "start_time": "2020-02-03T15:29:36.375555Z"
    },
    "code_folding": [],
    "hidden": true
   },
   "outputs": [
    {
     "name": "stdout",
     "output_type": "stream",
     "text": [
      "[1.0, 1.0, 1.0, 1.0, 0.0, 1.0, 1.0, 1.0, 1.0, 1.0, 1.0, 1.0, 1.0, 1.0, 1.0, 1.0, 1.0, 1.0, 1.0, 1.0, 1.0, 1.0, 1.0, 1.0, 1.0, 0.0, 1.0, 1.0, 1.0, 1.0, 1.0, 1.0, 1.0, 1.0, 1.0, 1.0, 1.0, 1.0, 1.0, 1.0, 1.0, 1.0, 1.0, 1.0, 1.0, 1.0, 1.0, 1.0, 1.0, 1.0, 1.0, 1.0, 1.0, 1.0, 1.0, 1.0, 1.0, 1.0, 1.0, 1.0, 1.0, 1.0, 0.0, 1.0, 1.0, 1.0, 0.0, 1.0, 1.0, 1.0, 1.0, 1.0, 1.0, 1.0, 0.0, 1.0, 1.0, 1.0, 1.0, 1.0, 1.0, 1.0, 1.0, 1.0, 1.0, 1.0, 1.0, 1.0, 1.0, 1.0, 1.0, 1.0, 1.0, 1.0, 1.0, 1.0, 1.0, 1.0, 0.0, 1.0, 1.0, 1.0, 1.0, 1.0, 1.0, 1.0, 1.0, 1.0, 1.0, 1.0, 1.0, 1.0, 1.0, 1.0, 1.0, 1.0, 1.0, 1.0, 1.0, 1.0, 1.0, 1.0, 1.0, 1.0, 1.0, 1.0, 1.0, 1.0, 1.0, 1.0]\n",
      "0.9538461538461539\n"
     ]
    }
   ],
   "source": [
    "acc_list = []\n",
    "sum_acc = 0.0\n",
    "loo = LeaveOneOut()\n",
    "m = 0\n",
    "for train_index, test_index in loo.split(X):\n",
    "    m += 1\n",
    "    X_train, X_test = X[train_index], X[test_index]\n",
    "    y_train, y_test = y[train_index], y[test_index]\n",
    "    clf = LogisticRegression(max_iter=500, learning_rate=0.2)\n",
    "    clf.fit(X_train, y_train)\n",
    "    y_pred = clf.predict(X_test)\n",
    "    acc = (y_pred == y_test).mean()\n",
    "    acc_list.append(acc)\n",
    "    sum_acc += acc\n",
    "print(acc_list)\n",
    "print(sum_acc /m )"
   ]
  },
  {
   "cell_type": "markdown",
   "metadata": {
    "heading_collapsed": true
   },
   "source": [
    "# Linear Discriminant Analysis "
   ]
  },
  {
   "cell_type": "markdown",
   "metadata": {
    "hidden": true
   },
   "source": [
    "## 推导 "
   ]
  },
  {
   "cell_type": "code",
   "execution_count": null,
   "metadata": {
    "hidden": true
   },
   "outputs": [],
   "source": []
  },
  {
   "cell_type": "markdown",
   "metadata": {
    "hidden": true
   },
   "source": [
    "## 实现 "
   ]
  },
  {
   "cell_type": "code",
   "execution_count": 3,
   "metadata": {
    "ExecuteTime": {
     "end_time": "2020-02-04T10:10:11.461279Z",
     "start_time": "2020-02-04T10:10:10.641677Z"
    },
    "hidden": true
   },
   "outputs": [],
   "source": [
    "import numpy as np\n",
    "from sklearn import datasets\n",
    "from sklearn.preprocessing import MinMaxScaler, StandardScaler\n",
    "import matplotlib.pyplot as plt \n",
    "plt.style.use(\"ggplot\")\n",
    "%matplotlib inline"
   ]
  },
  {
   "cell_type": "code",
   "execution_count": 31,
   "metadata": {
    "ExecuteTime": {
     "end_time": "2020-02-04T06:39:05.381720Z",
     "start_time": "2020-02-04T06:39:05.370728Z"
    },
    "hidden": true
   },
   "outputs": [],
   "source": [
    "class LDA:\n",
    "    \"\"\"\n",
    "    Linear discriminant analysis\n",
    "    \"\"\"\n",
    "\n",
    "    def __init__(self):\n",
    "        self.u0 = None\n",
    "        self.u1 = None\n",
    "        self.sigma0 = None\n",
    "        self.sigma1 = None\n",
    "        self.w = None\n",
    "        self.center0 = None\n",
    "        self.center1 = None\n",
    "\n",
    "    def fit(self, X, y):\n",
    "        mask = (y == 0)\n",
    "        self.u0 = X[mask].mean(axis=0)\n",
    "        self.u1 = X[~mask].mean(axis=0)\n",
    "        self.sigma0 = np.cov(X[mask].T)\n",
    "        self.sigma1 = np.cov(X[~mask].T)\n",
    "        u, s, v = np.linalg.svd(self.sigma0 + self.sigma1)\n",
    "        self.w = v / s @ u.T @ (self.u0 - self.u1)\n",
    "        self.center0 = self.w @ self.u0\n",
    "        self.center1 = self.w @ self.u1\n",
    "        return self\n",
    "        \n",
    "    def predict(self, X):\n",
    "        \"\"\"\n",
    "        w shape = (n,)\n",
    "        X shape = (m, n)\n",
    "        \"\"\"\n",
    "        p = X @ self.w\n",
    "        mask = np.absolute(p - self.center0) < np.absolute(p - self.center1)\n",
    "        p[mask] = 0\n",
    "        p[~mask] = 1\n",
    "        return p"
   ]
  },
  {
   "cell_type": "code",
   "execution_count": 24,
   "metadata": {
    "ExecuteTime": {
     "end_time": "2020-02-04T06:37:34.521836Z",
     "start_time": "2020-02-04T06:37:34.512846Z"
    },
    "hidden": true
   },
   "outputs": [
    {
     "name": "stdout",
     "output_type": "stream",
     "text": [
      "(130, 13)\n"
     ]
    }
   ],
   "source": [
    "X, y = datasets.load_wine(return_X_y=True)\n",
    "mask = y < 2\n",
    "y = y[mask]\n",
    "X = X[mask,:]\n",
    "print(X.shape)"
   ]
  },
  {
   "cell_type": "code",
   "execution_count": 34,
   "metadata": {
    "ExecuteTime": {
     "end_time": "2020-02-04T06:40:05.625307Z",
     "start_time": "2020-02-04T06:40:05.618313Z"
    },
    "hidden": true
   },
   "outputs": [
    {
     "name": "stdout",
     "output_type": "stream",
     "text": [
      "0.9384615384615385\n"
     ]
    }
   ],
   "source": [
    "lda = LDA()\n",
    "lda.fit(X, y)\n",
    "y_ = lda.predict(X)\n",
    "print((y == y_).mean())"
   ]
  },
  {
   "cell_type": "markdown",
   "metadata": {
    "ExecuteTime": {
     "end_time": "2020-02-04T06:37:58.902663Z",
     "start_time": "2020-02-04T06:37:58.895685Z"
    },
    "hidden": true
   },
   "source": [
    "## 推广到多分类 "
   ]
  },
  {
   "cell_type": "code",
   "execution_count": 5,
   "metadata": {
    "ExecuteTime": {
     "end_time": "2020-02-04T10:10:24.994936Z",
     "start_time": "2020-02-04T10:10:24.977945Z"
    },
    "hidden": true
   },
   "outputs": [],
   "source": [
    "class MLDA:\n",
    "    \"\"\"\n",
    "    Linear Discriminant Analysis for muliticlasses\n",
    "    \"\"\"\n",
    "    def __init__(self):\n",
    "        self.W = None\n",
    "        self.center = None\n",
    "        self.u = None\n",
    "        self.u_mat = None\n",
    "        self.Sw = None\n",
    "        self.Sb = None\n",
    "\n",
    "    def fit(self, X, y):\n",
    "        m, n = X.shape\n",
    "        # 求每一类样本的个数\n",
    "        m_d = dict()\n",
    "        d = 0\n",
    "        for elem in y:\n",
    "            if m_d.get(elem) == None:\n",
    "                m_d[elem] = 1\n",
    "                d += 1\n",
    "            else:\n",
    "                m_d[elem] += 1\n",
    "\n",
    "        self.Sw = np.zeros((n, n))\n",
    "        self.Sb = np.zeros((n, n))\n",
    "        self.u = X.mean(axis=0)\n",
    "        u_list = []\n",
    "        for i in range(d):\n",
    "            mask = (y == i)\n",
    "            self.Sw += np.cov(X[mask].T)\n",
    "            ui = X[mask].mean(axis=0)\n",
    "            u_list.append(ui)\n",
    "            self.Sb += m_d[i] * ((ui - self.u) @ (ui - self.u))\n",
    "        self.u_mat = np.array(u_list)  # shape = d * n\n",
    "        w, v = np.linalg.eig(np.linalg.inv(self.Sw) @ self.Sb)\n",
    "        self.W = v[:, :d-1]\n",
    "        self.center = self.u_mat @ self.W\n",
    "        return self\n",
    "\n",
    "    def predict(self, X):\n",
    "        m = X.shape[0]\n",
    "        y = np.zeros(m)\n",
    "        for row, i in zip(X, range(m)):\n",
    "            projector = row @ self.W\n",
    "            y[i] = ((projector - self.center) ** 2).sum(axis=1).argmin()\n",
    "        return y"
   ]
  },
  {
   "cell_type": "code",
   "execution_count": 6,
   "metadata": {
    "ExecuteTime": {
     "end_time": "2020-02-04T10:10:25.522631Z",
     "start_time": "2020-02-04T10:10:25.505641Z"
    },
    "hidden": true
   },
   "outputs": [
    {
     "name": "stdout",
     "output_type": "stream",
     "text": [
      "0.7359550561797753\n"
     ]
    }
   ],
   "source": [
    "X, y = datasets.load_wine(return_X_y=True)\n",
    "mlda = MLDA()\n",
    "mlda.fit(X,y)\n",
    "y_ = mlda.predict(X)\n",
    "print((y_ == y).mean())"
   ]
  },
  {
   "cell_type": "code",
   "execution_count": 8,
   "metadata": {
    "ExecuteTime": {
     "end_time": "2020-02-04T10:10:45.551784Z",
     "start_time": "2020-02-04T10:10:45.531776Z"
    },
    "hidden": true,
    "scrolled": false
   },
   "outputs": [
    {
     "name": "stdout",
     "output_type": "stream",
     "text": [
      "0.550561797752809\n"
     ]
    }
   ],
   "source": [
    "X, y = datasets.load_wine(return_X_y=True)\n",
    "scaler = StandardScaler()\n",
    "scaler.fit(X)\n",
    "X = scaler.transform(X)\n",
    "mlda = MLDA()\n",
    "mlda.fit(X,y)\n",
    "y_ = mlda.predict(X)\n",
    "print((y_ == y).mean())"
   ]
  },
  {
   "cell_type": "code",
   "execution_count": 9,
   "metadata": {
    "ExecuteTime": {
     "end_time": "2020-02-04T10:11:03.901502Z",
     "start_time": "2020-02-04T10:11:03.885511Z"
    },
    "hidden": true
   },
   "outputs": [
    {
     "name": "stdout",
     "output_type": "stream",
     "text": [
      "0.8764044943820225\n"
     ]
    }
   ],
   "source": [
    "X, y = datasets.load_wine(return_X_y=True)\n",
    "scaler = MinMaxScaler()\n",
    "scaler.fit(X)\n",
    "X = scaler.transform(X)\n",
    "mlda = MLDA()\n",
    "mlda.fit(X,y)\n",
    "y_ = mlda.predict(X)\n",
    "print((y_ == y).mean())"
   ]
  },
  {
   "cell_type": "code",
   "execution_count": 10,
   "metadata": {
    "ExecuteTime": {
     "end_time": "2020-02-04T10:14:54.113591Z",
     "start_time": "2020-02-04T10:14:54.110579Z"
    },
    "hidden": true
   },
   "outputs": [],
   "source": [
    "from sklearn.decomposition import PCA"
   ]
  },
  {
   "cell_type": "code",
   "execution_count": 13,
   "metadata": {
    "ExecuteTime": {
     "end_time": "2020-02-04T10:29:06.016985Z",
     "start_time": "2020-02-04T10:29:04.910617Z"
    },
    "hidden": true
   },
   "outputs": [
    {
     "data": {
      "text/plain": [
       "<matplotlib.collections.PathCollection at 0x1a1975c0f08>"
      ]
     },
     "execution_count": 13,
     "metadata": {},
     "output_type": "execute_result"
    },
    {
     "data": {
      "image/png": "[encoded data removed]",
      "text/plain": [
       "<Figure size 1008x288 with 3 Axes>"
      ]
     },
     "metadata": {
      "needs_background": "light"
     },
     "output_type": "display_data"
    }
   ],
   "source": [
    "X,y = datasets.load_wine(return_X_y=True)\n",
    "plt.figure(figsize=(14,4))\n",
    "\n",
    "X1 = PCA(n_components=2).fit_transform(X)\n",
    "plt.subplot(131)\n",
    "plt.scatter(X1[:,0],X1[:,1],c = y)\n",
    "\n",
    "X2 = StandardScaler().fit_transform(X)\n",
    "X2 = PCA(n_components=2).fit_transform(X2)\n",
    "plt.subplot(132)\n",
    "plt.scatter(X2[:,0],X2[:,1],c = y)\n",
    "\n",
    "X3 = MinMaxScaler().fit_transform(X)\n",
    "X3 = PCA(n_components=2).fit_transform(X3)\n",
    "plt.subplot(133)\n",
    "plt.scatter(X3[:,0],X3[:,1],c = y)"
   ]
  },
  {
   "cell_type": "markdown",
   "metadata": {
    "heading_collapsed": true
   },
   "source": [
    "# Nerual Network"
   ]
  },
  {
   "cell_type": "markdown",
   "metadata": {
    "hidden": true
   },
   "source": [
    "## 推导"
   ]
  },
  {
   "cell_type": "markdown",
   "metadata": {
    "hidden": true
   },
   "source": [
    "### 目标函数"
   ]
  },
  {
   "cell_type": "markdown",
   "metadata": {
    "hidden": true
   },
   "source": [
    "一个输入为$X_{n \\times m}$，输出为$Y_{K \\times m}$，($n$为输入中特征的数目，$m$为样本的个数，$K$为数据的类别数)，$L$层的神经网络模型其代价函数如下\n",
    "\n",
    "$$ \n",
    "\\large\\displaystyle J(W,b) = - \\frac{1}{m} \\sum^{m}_{t=1} \\sum^{K}_{k=1} \\left[ y^{(t)}_{k}log(\\hat{y}^{(t)}_{k}) + (1-y^{(t)}_{k})(log(1-\\hat{y}^{(t)}_{k})) \\right] + \\frac{\\lambda}{2m} \\sum^{L-1}_{l=1} \\sum^{s_{l+1}}_{i=1} \\sum^{s_{l}}_{j=1} W^{l}_{i,j}\n",
    "\\tag{1.1}\n",
    "$$\n",
    "\n",
    "其中$\\large\\displaystyle \\hat{y} = a^{L}$，可以由式$(1.2)$计算得到,计算过程就是前向传播的过程。\n",
    "\n",
    "$$\n",
    "\\large\\displaystyle\n",
    "\\left\\{\n",
    "{a^{1} = x}\n",
    "\\atop\n",
    "{a^{l+1} = g(z^{l+1}),\\hspace{9pt}z^{l+1} = W^{l}a^{l} + b^{l} \\hspace{18pt}l = 2,..,L-1} \n",
    "\\right.\n",
    "\\tag{1.2}\n",
    "$$\n",
    "\n",
    "其中$\\large\\displaystyle g(z) = \\frac{1}{1+e^{(-z)}}$ 为sigmoid函数，全部的隐藏层均使用sigmoid函数，包括输出层。"
   ]
  },
  {
   "cell_type": "markdown",
   "metadata": {
    "hidden": true
   },
   "source": [
    "### 反向传播"
   ]
  },
  {
   "cell_type": "markdown",
   "metadata": {
    "hidden": true
   },
   "source": [
    "不考虑正则项，样本$(x,y)$所产生的代价为\n",
    "$$\n",
    "\\large\\displaystyle\n",
    "C = - \\sum^{K}_{k=1} \\left[ y_{k}log(\\hat{y}_{k}) + (1-y_{k})(log(1-\\hat{y}_{k})) \\right]\n",
    "$$\n",
    "\n",
    "目标函数可以改写为\n",
    "$$\n",
    "\\large\\displaystyle\n",
    "J(W,b) = \\frac{1}{m} \\sum^{m}_{t=1} C^{(t)}\n",
    "$$"
   ]
  },
  {
   "cell_type": "markdown",
   "metadata": {
    "hidden": true
   },
   "source": [
    "![avatar](NN1.png)"
   ]
  },
  {
   "cell_type": "markdown",
   "metadata": {
    "hidden": true
   },
   "source": [
    "$$\\large\\displaystyle\n",
    "\\frac{\\partial{C}}{\\partial{W^{l}_{i,j}}} = \\frac{\\partial{C}}{\\partial{z^{l+1}_{i}}} \\frac{\\partial{z^{l+1}_{i}}}{\\partial{W^{l}_{i,j}}}\n",
    "$$\n",
    "\n",
    "$$\\large\\displaystyle\n",
    "\\text{向量化}\n",
    "\\Rightarrow\n",
    "\\frac{\\partial{C}}{\\partial{W^{l}_{i,:}}} = \\frac{\\partial{C}}{\\partial{z^{l+1}_{i}}}  \\frac{\\partial{z^{l+1}_{i}}}{\\partial{W^{l}_{i,:}}} = \\frac{\\partial{C}}{\\partial{z^{l+1}_{i}}}(a^{l})^{T}\n",
    "$$\n",
    "\n",
    "$$\\large\\displaystyle\n",
    "\\text{矩阵化}\n",
    "\\Rightarrow\n",
    "\\frac{\\partial{C}}{\\partial{W^{l}}} =\n",
    "\\left[\n",
    "\\begin{matrix}\n",
    "\\frac{\\partial{C}}{\\partial{z^{l+1}_{1}}}(a^{l})^{T}\n",
    "\\\\ .\\\\.\\\\ \n",
    "\\frac{\\partial{C}}{\\partial{z^{l+1}_{j}}}(a^{l})^{T}\n",
    "\\\\ .\\\\.\\\\ \n",
    "\\frac{\\partial{C}}{\\partial{z^{l+1}_{s_{l}}}}(a^{l})^{T}\n",
    "\\end{matrix}\n",
    "\\right]\n",
    "= \\frac{\\partial{C}}{\\partial{z^{l+1}}}(a^{l})^{T}\n",
    "$$"
   ]
  },
  {
   "cell_type": "markdown",
   "metadata": {
    "hidden": true
   },
   "source": [
    "$$\\large\\displaystyle\n",
    "\\frac{\\partial{C}}{\\partial{b^{l}_{i}}} = \\frac{\\partial{C}}{\\partial{z^{l+1}_{i}}} \\frac{\\partial{z^{l+1}_{i}}}{\\partial{b^{l}_{i}}} = \\frac{\\partial{C}}{\\partial{z^{l+1}_{i}}}\n",
    "$$\n",
    "\n",
    "$$\\large\\displaystyle\n",
    "\\text{向量化}\n",
    "\\Rightarrow\n",
    "\\frac{\\partial{C}}{\\partial{b^{l}}} = \\frac{\\partial{C}}{\\partial{z^{l+1}}}\n",
    "$$"
   ]
  },
  {
   "cell_type": "markdown",
   "metadata": {
    "hidden": true
   },
   "source": [
    "从上面的公式可知，$a^{l+1}$和$a^{l}$在向前传播的过程中产生，如果我们知道$\\frac{\\partial{C}}{\\partial{z^{l+1}}}$就可以计算出$\\frac{\\partial{C}}{\\partial{W^{l}}}$。\n",
    "要求$\\frac{\\partial{C}}{\\partial{z^{l+1}}}$可以先研究一下它和$\\frac{\\partial{C}}{\\partial{z^{l+2}}}$的关系。\n",
    "\n",
    "$$\n",
    "\\large\\displaystyle\n",
    "\\begin{array}{rcl}\\displaystyle\n",
    "\\frac{\\partial{C}}{\\partial{z^{l+1}_{j}}} \n",
    "& = & \\displaystyle\\sum^{s_{l+2}}_{i=1} \\frac{\\partial{C}}{\\partial{z^{l+2}_{i}}} \\frac{\\partial{z^{l+2}_{i}}}{\\partial{a^{l+1}_{j}}} \\frac{\\partial{a^{l+1}_{j}}}{\\partial{z^{l+1}_{j}}} \\\\\n",
    "& = & \\displaystyle\\sum^{s_{l+2}}_{i=1} \\frac{\\partial{C}}{\\partial{z^{l+2}_{i}}}W^{l+1}_{i,j} a^{l+1}_{j}(1 - a^{l+1}_{j})  \\\\ & = & \\displaystyle (W^{l+1}_{:,j})^{T} \\frac{\\partial{C}}{\\partial{z^{l+2}}}a^{l+1}_{j}(1 - a^{l+1}_{j})\n",
    "\\end{array}\n",
    "$$\n",
    "\n",
    "\n",
    "$$\n",
    "\\large\\displaystyle\n",
    "\\text{向量化}\n",
    "\\Rightarrow\n",
    "\\frac{\\partial{C}}{\\partial{z^{l+1}}} = \n",
    "\\left[\n",
    "\\begin{matrix}\n",
    "(W^{l+1}_{:,1})^{T} \\frac{\\partial{C}}{\\partial{z^{l+2}}}a^{l+1}_{1}(1 - a^{l+1}_{1})\n",
    "\\\\.\\\\.\\\\\n",
    "(W^{l+1}_{:,j})^{T} \\frac{\\partial{C}}{\\partial{z^{l+2}}}a^{l+1}_{j}(1 - a^{l+1}_{j})\n",
    "\\\\.\\\\.\\\\\n",
    "(W^{l+1}_{:,s_{l+1}})^{T} \\frac{\\partial{C}}{\\partial{z^{l+2}}}a^{l+1}_{s_{l+1}}(1 - a^{l+1}_{s_{l+1}})\n",
    "\\end{matrix}\n",
    "\\right]\n",
    "= (W^{l+1})^{T}\\frac{\\partial{C}}{\\partial{z^{l+2}}}.*a^{l+1}.*(1 - a^{l+1})\n",
    "$$"
   ]
  },
  {
   "cell_type": "markdown",
   "metadata": {
    "hidden": true
   },
   "source": [
    "由上面的式子可知$\\frac{\\partial{C}}{\\partial{z^{l+1}}}$可由$\\frac{\\partial{C}}{\\partial{z^{l+2}}}$导出。因此，只要求得第一项$\\frac{\\partial{C}}{\\partial{z^{L}}}$，就可以导出其它各项。\n",
    "$$\n",
    "\\large\\displaystyle\n",
    "\\frac{\\partial{C}}{\\partial{z^{L}_{k}}} = \\frac{a^{L}_{k}-y_{k}}{a^{L}_{k}(1 - a^{L}_{k})}a^{L}_{k}(1 - a^{L}_{k}) = a^{L}_{k}-y_{k}\n",
    "$$\n",
    "\n",
    "$$\n",
    "\\large\\displaystyle\n",
    "\\text{向量化}\n",
    "\\Rightarrow\n",
    "\\frac{\\partial{C}}{\\partial{z^{L}}} = (a^{L} - y)\n",
    "$$"
   ]
  },
  {
   "cell_type": "markdown",
   "metadata": {
    "hidden": true
   },
   "source": [
    "令$ \\delta^{l} = \\frac{\\partial{C}}{\\partial{z^{l}}}$,则\n",
    "$$\\large\\displaystyle\n",
    "\\delta^{L} = a^{L} - y\n",
    "$$\n",
    "\n",
    "$$\\large\\displaystyle\n",
    "\\delta^{l} = (W^{l})^{T}\\delta^{l+1}.*a^{l}.*(1 - a^{l})\n",
    "$$\n",
    "\n",
    "$$\\large\\displaystyle\n",
    "\\frac{\\partial{C}}{\\partial{W^{l}}} \n",
    "= \\frac{\\partial{C}}{\\partial{z^{l+1}}}(a^{l})^{T}\n",
    "= \\delta^{l+1}(a^{l})^{T}\n",
    "$$"
   ]
  },
  {
   "cell_type": "markdown",
   "metadata": {
    "hidden": true
   },
   "source": [
    "$$\n",
    "\\begin{array}{rcl}\n",
    "\\large\\displaystyle\\frac{\\partial{J}}{\\partial{W^{l}}} & = & \\large\\displaystyle\\frac{1}{m} \\sum^{m}_{t=1} \\frac{\\partial{C^{(t)}}}{\\partial{W^{l}}}\\\\\n",
    "& = & \\large\\displaystyle\\frac{1}{m} \\sum^{m}_{t=1} \\delta^{l+1,(t)}(a^{l,(t)})^{T}\\\\\n",
    "& = &\\large\\displaystyle \\frac{1}{m} \\Delta^{l+1} (A^{l})^{T}\n",
    "\\end{array}\n",
    "$$\n",
    "\n",
    "$$\n",
    "\\begin{array}{rcl}\n",
    "\\large\\displaystyle \\frac{\\partial{J}}{\\partial{b^{l}}} \n",
    "& = & \\large\\displaystyle \\frac{1}{m} \\sum^{m}_{t=1} \\frac{\\partial{C^{(t)}}}{\\partial{b^{l}}}\\\\\n",
    "& = & \\large\\displaystyle \\frac{1}{m} \\sum^{m}_{t=1} \\delta^{l+1,(t)} \\\\\n",
    "& = & \\large\\displaystyle \\frac{1}{m} \\Delta^{l+1} p\n",
    "\\end{array}\n",
    "$$\n",
    "\n",
    "$$\\large\\displaystyle\n",
    "\\Delta^{l} = (W^{l})^{T}\\Delta^{l+1}.*A^{l}.*(1 - A^{l})\n",
    "$$\n",
    "\n",
    "其中$\\Delta^{l+1} = [\\delta^{l+1,(1)},.,\\delta^{l+1,(t)},.,\\delta^{l+1,(s_{m})}]$，$A^{l} = [a^{l,(1)},.,a^{l,(t)},.,a^{l,(m)}]$，$p = [1]_{m \\times 1}$"
   ]
  },
  {
   "cell_type": "markdown",
   "metadata": {
    "hidden": true
   },
   "source": [
    "再加上正则项\n",
    "$$\\large\\displaystyle\n",
    "\\frac{\\partial{J}}{\\partial{W^{l}}} = \\frac{1}{m} (\\Delta^{l+1} (A^{l})^{T} + \\lambda W^{l}) \\\\\n",
    "\\large\\displaystyle\n",
    "\\frac{\\partial{J}}{\\partial{b^{l}}} = \\frac{1}{m} \\Delta^{l+1} p\n",
    "$$"
   ]
  },
  {
   "cell_type": "markdown",
   "metadata": {
    "hidden": true
   },
   "source": [
    "参数更新\n",
    "\n",
    "$$\n",
    "\\large\\displaystyle\n",
    "W^{l} = W^{l} - \\alpha \\frac{\\partial{J}}{\\partial{W^{l}}}\\\\\n",
    "\\large\\displaystyle\n",
    "b^{l} = b^{l} - \\alpha \\frac{\\partial{J}}{\\partial{b^{l}}} \n",
    "$$"
   ]
  },
  {
   "cell_type": "markdown",
   "metadata": {
    "hidden": true
   },
   "source": [
    "## 实现"
   ]
  },
  {
   "cell_type": "code",
   "execution_count": 1,
   "metadata": {
    "hidden": true
   },
   "outputs": [],
   "source": [
    "import numpy as np\n",
    "import matplotlib.pyplot as plt\n",
    "from sklearn import datasets\n",
    "from sklearn.preprocessing import LabelBinarizer, Normalizer\n",
    "plt.style.use(\"ggplot\")\n",
    "%matplotlib inline"
   ]
  },
  {
   "cell_type": "code",
   "execution_count": null,
   "metadata": {
    "code_folding": [
     3
    ],
    "hidden": true
   },
   "outputs": [],
   "source": [
    "def sigmoid(z):\n",
    "    return 1 / (1 + np.exp(-z))\n",
    "\n",
    "def plot_learningCurve(loss_list):\n",
    "    n = len(loss_list)\n",
    "    fig, ax = plt.subplots(figsize=(6,4))\n",
    "    x = [i for i in range(len(clf.loss))]\n",
    "    ax.plot(x,clf.loss)\n",
    "    ax.set_xlabel(\"No. of iterations\")\n",
    "    ax.set_ylabel(\"J\")\n",
    "\n",
    "class NerualNetwork:\n",
    "\n",
    "    def __init__(self, layer_list=[], learning_rate=0.01, alpha=1.0, max_iter=200):\n",
    "        self.learning_rate = learning_rate\n",
    "        self.alpha = alpha\n",
    "        self.max_iter = max_iter\n",
    "        self.layer_list = layer_list\n",
    "        self.n_layers = len(layer_list)\n",
    "        self.n_outputs = layer_list[-1]\n",
    "        self.loss = []\n",
    "        self.weights = {}\n",
    "        self.bias = {}\n",
    "        self.tmp = {}\n",
    "\n",
    "        for i in range(1, self.n_layers, 1):\n",
    "            n_cur = self.layer_list[i-1]\n",
    "            n_next = self.layer_list[i]\n",
    "            self.weights[\"W\" + str(i)] = np.random.normal(size=(n_next, n_cur))\n",
    "            self.bias[\"b\" + str(i)] = np.random.normal(size=(n_next, 1))\n",
    "        #   print(\"W\" + str(i) + \"  \",self.weights[\"W\" + str(i)].shape)\n",
    "        #   print(\"b\" + str(i) + \"  \",self.bias[\"b\" + str(i)].shape)\n",
    "\n",
    "    def __compute_loss(self, Y, Y_):\n",
    "        m = Y.shape[1]\n",
    "        loss = None\n",
    "        loss = (- Y * np.log(Y_) - (1 - Y) * np.log(1 - Y_)).sum()\n",
    "        for i in range(1, self.n_layers, 1):\n",
    "            W = self.weights[\"W\" + str(i)]\n",
    "            loss += 0.5 * self.alpha * W.sum()\n",
    "        loss /= m\n",
    "        return loss\n",
    "\n",
    "    def fit(self, X, Y):\n",
    "        m = X.shape[1]\n",
    "        it = 0\n",
    "        while it < self.max_iter:\n",
    "            self.tmp[\"A1\"] = X\n",
    "            for i in range(1, self.n_layers, 1):\n",
    "                # 1,...,L - 1\n",
    "                A = self.tmp[\"A\" + str(i)]\n",
    "                W = self.weights[\"W\" + str(i)]\n",
    "                b = self.bias[\"b\" + str(i)]\n",
    "                # print(\"W: \", W.shape)\n",
    "                # print(\"A: \", A.shape)\n",
    "                # print(\"b: \", b.shape)\n",
    "                self.tmp[\"A\" + str(i + 1)] = sigmoid(W @ A + b)\n",
    "            self.loss.append(self.__compute_loss(\n",
    "                Y, self.tmp[\"A\" + str(self.n_layers)]))\n",
    "            delta = self.tmp[\"A\" + str(self.n_layers)] - Y\n",
    "            for i in range(self.n_layers - 1, 1, -1):\n",
    "                # L-1,.,2\n",
    "                W = self.weights[\"W\" + str(i)]\n",
    "                b = self.bias[\"b\" + str(i)]\n",
    "                A = self.tmp[\"A\" + str(i)]\n",
    "                tmp = W.T @ delta * A * (1 - A)\n",
    "                DW = (delta @ A.T + self.alpha * W) / m\n",
    "                Db = delta.sum(axis=1, keepdims=True) / m\n",
    "                self.weights[\"W\" + str(i)] = W - self.learning_rate * DW\n",
    "                self.bias[\"b\" + str(i)] = b - self.learning_rate * Db\n",
    "                delta = tmp\n",
    "            it += 1\n",
    "\n",
    "        for i in range(1, self.n_layers + 1, 1):\n",
    "            del self.tmp[\"A\" + str(i)]\n",
    "\n",
    "        return self\n",
    "\n",
    "    def predict(self, X):\n",
    "        A = X\n",
    "        for i in range(1, self.n_layers, 1):\n",
    "            W = self.weights[\"W\" + str(i)]\n",
    "            b = self.bias[\"b\" + str(i)]\n",
    "            Z = W @ A + b\n",
    "            A = sigmoid(Z)\n",
    "        return A\n"
   ]
  },
  {
   "cell_type": "code",
   "execution_count": 3,
   "metadata": {
    "hidden": true
   },
   "outputs": [],
   "source": [
    "X, y = datasets.load_iris(return_X_y=True)\n",
    "X = X.T\n",
    "ovl = LabelBinarizer()\n",
    "Y = ovl.fit_transform(y)\n",
    "Y = Y.T"
   ]
  },
  {
   "cell_type": "code",
   "execution_count": 36,
   "metadata": {
    "hidden": true
   },
   "outputs": [
    {
     "data": {
      "text/plain": [
       "0.8333333333333334"
      ]
     },
     "execution_count": 36,
     "metadata": {},
     "output_type": "execute_result"
    },
    {
     "data": {
      "image/png": "[encoded data removed]",
      "text/plain": [
       "<Figure size 432x288 with 1 Axes>"
      ]
     },
     "metadata": {},
     "output_type": "display_data"
    }
   ],
   "source": [
    "clf = NerualNetwork(layer_list=[4, 20, 20, 3],max_iter= 500)\n",
    "clf.fit(X,Y)\n",
    "plot_learningCurve(clf.loss)\n",
    "Y_ = clf.predict(X)\n",
    "y_ = Y_.argmax(axis = 0)\n",
    "(y_ == y).mean()"
   ]
  },
  {
   "cell_type": "markdown",
   "metadata": {
    "heading_collapsed": true
   },
   "source": [
    "# KMeans "
   ]
  },
  {
   "cell_type": "code",
   "execution_count": null,
   "metadata": {
    "hidden": true
   },
   "outputs": [],
   "source": [
    "import numpy as np\n",
    "from sklearn import svm\n",
    "from sklearn import datasets\n",
    "import matplotlib.pyplot as plt\n",
    "%matplotlib qt5"
   ]
  },
  {
   "cell_type": "code",
   "execution_count": null,
   "metadata": {
    "hidden": true
   },
   "outputs": [],
   "source": [
    "class KMeans:\n",
    "    \"\"\"[K-Means clustering.]\n",
    "    \"\"\"\n",
    "\n",
    "    def __init__(self, n_clusters=4, max_iter=300, tol=1e-5):\n",
    "        self.n_clusters = n_clusters\n",
    "        self.max_iter = max_iter\n",
    "        self.tol = tol\n",
    "        self.cost = []\n",
    "        # array of shape (n_clusters, n_features)\n",
    "        self.cluster_centers = None\n",
    "\n",
    "    def fit(self, X):\n",
    "        \"\"\"[Compute K-means clustering.]\n",
    "\n",
    "        Arguments:\n",
    "            X {[array]} -- [shape = (n_examples, n_features)]\n",
    "        \"\"\"\n",
    "        n_examples = X.shape[0]\n",
    "        # initialize\n",
    "        random_idx = np.random.permutation(\n",
    "            n_examples)[:self.n_clusters].tolist()\n",
    "        self.cluster_centers = X[random_idx, :]\n",
    "        # record the idx of examples belonging to the cluster centers\n",
    "        tag = [[] for i in range(self.n_clusters)]\n",
    "        # record the cost\n",
    "        self.cost.clear()\n",
    "        pre_cost = 0.0\n",
    "        cost = 0.0\n",
    "\n",
    "        iter = 0\n",
    "        while (iter < self.max_iter):\n",
    "            cost_arr = np.zeros(self.n_clusters, dtype='float')\n",
    "            count = np.zeros(self.n_clusters, dtype='int')\n",
    "            for i in tag:\n",
    "                i.clear()\n",
    "\n",
    "            for i in range(n_examples):\n",
    "                diff = self.cluster_centers - X[i, :]\n",
    "                dist = (diff * diff).sum(axis=1)\n",
    "                min_idx = dist.argmin()\n",
    "                tag[min_idx].append(i)\n",
    "                cost_arr[min_idx] += dist[min_idx]\n",
    "                count[min_idx] += 1\n",
    "\n",
    "            # update the cluster centers, ignore the centers without examples belonging to them\n",
    "            for i in range(self.n_clusters):\n",
    "                if count[i] != 0:\n",
    "                    self.cluster_centers[i, :] = X[tag[i], :].mean(\n",
    "                        axis=0, keepdims=True)\n",
    "\n",
    "            # compute and store the cost\n",
    "            pre_cost = cost\n",
    "            cost = cost_arr.sum()\n",
    "            self.cost.append(cost / n_examples)\n",
    "            #print(\"iter = %d Cost = %f diff = %f\" % (iter, cost, pre_cost - cost))\n",
    "            if (iter != 0) and (pre_cost - cost < self.tol):\n",
    "                break\n",
    "            iter += 1\n",
    "\n",
    "    def predict(self, X):\n",
    "        \"\"\"[Predict the closest cluster each example in X belongs to]\n",
    "\n",
    "        Arguments:\n",
    "            X {[array]} -- [shape = (n_samples, n_features)]\n",
    "        \"\"\"\n",
    "        n_samples = X.shape[0]\n",
    "        tag = np.zeros(n_samples, dtype='int')\n",
    "        for i in range(n_samples):\n",
    "            diff = self.cluster_centers - X[i, :]\n",
    "            dist = (diff * diff).sum(axis=1)\n",
    "            min_idx = dist.argmin()\n",
    "            tag[i] = min_idx\n",
    "        return tag\n"
   ]
  },
  {
   "cell_type": "code",
   "execution_count": null,
   "metadata": {
    "hidden": true
   },
   "outputs": [],
   "source": [
    "X, y = datasets.load_iris(return_X_y=True)\n",
    "knn = KMeans(n_clusters=3)\n",
    "knn.fit(X[:, [0, 3]])\n",
    "tag = knn.predict(X[:, [0, 3]])"
   ]
  },
  {
   "cell_type": "code",
   "execution_count": null,
   "metadata": {
    "hidden": true
   },
   "outputs": [],
   "source": [
    "fig, axes = plt.subplots(nrows = 1,ncols = 2)\n",
    "fig.tight_layout()"
   ]
  },
  {
   "cell_type": "code",
   "execution_count": null,
   "metadata": {
    "hidden": true
   },
   "outputs": [],
   "source": [
    "axes[0].scatter(X[:, 0], X[:, 3], c=y)\n",
    "axes[0].grid(linestyle=\"--\")\n",
    "axes[0].set_title(\"True clusters\")\n",
    "axes[0].set_xlabel(\"X label\")\n",
    "axes[0].set_ylabel(\"Y label\")"
   ]
  },
  {
   "cell_type": "code",
   "execution_count": null,
   "metadata": {
    "hidden": true
   },
   "outputs": [],
   "source": [
    "axes[1].scatter(X[:, 0], X[:, 3], c=tag)\n",
    "axes[1].grid( linestyle=\"--\")\n",
    "axes[1].set_title(\"predicted clusters\")\n",
    "axes[1].set_xlabel(\"X label\")\n",
    "axes[1].set_ylabel(\"Y label\")"
   ]
  },
  {
   "cell_type": "code",
   "execution_count": null,
   "metadata": {
    "hidden": true
   },
   "outputs": [],
   "source": [
    "fig.savefig(\"scatter.png\",dpi=800)"
   ]
  },
  {
   "cell_type": "code",
   "execution_count": null,
   "metadata": {
    "hidden": true
   },
   "outputs": [],
   "source": [
    "plt.figure()\n",
    "plt.plot([i for i in range(len(knn.cost))], knn.cost)\n",
    "plt.grid()\n",
    "plt.xlabel(\"No. of iteration\")\n",
    "plt.ylabel(\"Cost\")"
   ]
  },
  {
   "cell_type": "markdown",
   "metadata": {
    "heading_collapsed": true
   },
   "source": [
    "# DBSCAN"
   ]
  },
  {
   "cell_type": "code",
   "execution_count": null,
   "metadata": {
    "hidden": true
   },
   "outputs": [],
   "source": [
    "import numpy as np\n",
    "from sklearn import datasets\n",
    "import matplotlib.pyplot as plt\n",
    "import queue\n",
    "import random\n",
    "from sklearn.cluster import DBSCAN as DBS\n",
    "import time"
   ]
  },
  {
   "cell_type": "code",
   "execution_count": null,
   "metadata": {
    "hidden": true
   },
   "outputs": [],
   "source": [
    "class DBSCAN:\n",
    "\n",
    "    def __init__(self, eps=0.5, min_samples=5, metric=\"euclidean\"):\n",
    "        \"\"\"[summary]\n",
    "\n",
    "        Keyword Arguments:\n",
    "            eps {float} -- [The maximum distance between two samples for one to be considered as in the neighborhood of the other] (default: {0.5})\n",
    "            min_samples {int} -- [The number of samples in a neighborhood for a point to be considered as a core point] (default: {5})\n",
    "            metric {str} -- [description] (default: {\"euclidean\"})\n",
    "        \"\"\"\n",
    "        self.eps_square = eps ** 2\n",
    "        self.min_samples = min_samples\n",
    "\n",
    "    def fit_predict(self, X):\n",
    "        \"\"\"[Perform DBSCAN clustering from features or distance matrix]\n",
    "\n",
    "        Arguments:\n",
    "            X {[array]} -- [shape = (n_samples, n_features)]\n",
    "        \"\"\"\n",
    "        n_samples = X.shape[0]\n",
    "        core_set = set()\n",
    "        neighbor = [set() for i in range(n_samples)]\n",
    "        for j in range(n_samples):\n",
    "            diff = X - X[j, :]\n",
    "            dist_square = (diff * diff).sum(axis=1)\n",
    "            for i in range(n_samples):\n",
    "                if dist_square[i] < self.eps_square:\n",
    "                    neighbor[j].add(i)\n",
    "            if len(neighbor[j]) >= self.min_samples:\n",
    "                core_set.add(j)\n",
    "        clusters = []\n",
    "        k = 0\n",
    "        unvistied = set([i for i in range(n_samples)])\n",
    "        while len(core_set) > 0:\n",
    "            unvistied_old = set(unvistied)\n",
    "            rdx = unvistied.pop()  # 应该是随机选一个的，这里默认选第一个\n",
    "            Q = queue.SimpleQueue()\n",
    "            Q.put(rdx)\n",
    "            while not Q.empty():\n",
    "                q = Q.get()\n",
    "                if len(neighbor[q]) >= self.min_samples:\n",
    "                    delta = neighbor[q].intersection(unvistied)\n",
    "                    for item in delta:\n",
    "                        Q.put(item)\n",
    "                        unvistied.discard(item)\n",
    "            clusters.append(unvistied_old.difference(unvistied))\n",
    "            core_set.difference_update(clusters[k])\n",
    "            k += 1\n",
    "        y = np.zeros(n_samples, dtype='int')\n",
    "        for i in range(k):\n",
    "            for item in clusters[i]:\n",
    "                y[item] = i\n",
    "        return y"
   ]
  },
  {
   "cell_type": "code",
   "execution_count": null,
   "metadata": {
    "hidden": true
   },
   "outputs": [],
   "source": [
    "X, y = datasets.load_iris(return_X_y=True)\n",
    "db1 = DBS(eps=0.4, min_samples=10)\n",
    "db2 = DBSCAN(eps=0.4, min_samples=10)\n",
    "tag1 = db1.fit_predict(X[:, [0, 3]])\n",
    "tag2 =db2.fit_predict(X[:, [0, 3]])"
   ]
  },
  {
   "cell_type": "code",
   "execution_count": null,
   "metadata": {
    "hidden": true
   },
   "outputs": [],
   "source": [
    "def cluster_scatter(axe, X, tag, title):\n",
    "    axe.scatter(X[:, 0], X[:, 3], c = tag)\n",
    "    axe.grid(linestyle=\"--\")\n",
    "    axe.set_title(title)"
   ]
  },
  {
   "cell_type": "code",
   "execution_count": null,
   "metadata": {
    "hidden": true
   },
   "outputs": [],
   "source": [
    "fig, axes = plt.subplots(nrows=1 ,ncols = 3,figsize=(16,4))\n",
    "fig.tight_layout()\n",
    "cluster_scatter(axes[0],X,y,\"True clusters\")\n",
    "cluster_scatter(axes[1],X,tag1,\"Clusters generated by Sklearn DBSCAN\")\n",
    "cluster_scatter(axes[2],X,tag2,\"Clusters generated by my DBSCAN\")\n",
    "fig.savefig(\"dbscan.png\",dpi = 1000)"
   ]
  },
  {
   "cell_type": "markdown",
   "metadata": {
    "heading_collapsed": true
   },
   "source": [
    "# PCA"
   ]
  },
  {
   "cell_type": "code",
   "execution_count": null,
   "metadata": {
    "hidden": true
   },
   "outputs": [],
   "source": [
    "import numpy as np\n",
    "import matplotlib.pyplot as plt\n",
    "from mpl_toolkits.mplot3d import Axes3D\n",
    "from sklearn import datasets\n",
    "from sklearn.decomposition import PCA as PC\n",
    "%matplotlib qt5"
   ]
  },
  {
   "cell_type": "code",
   "execution_count": null,
   "metadata": {
    "hidden": true
   },
   "outputs": [],
   "source": [
    "class PCA:\n",
    "    \"\"\"[Principal component analysis]\n",
    "    \"\"\"\n",
    "\n",
    "    def __init__(self, n_components=None):\n",
    "        \"\"\"[summary]\n",
    "\n",
    "        Keyword Arguments:\n",
    "            n_components {[int]} -- [Number of components to keep] (default: {None})\n",
    "        \"\"\"\n",
    "        self.n_components = n_components\n",
    "\n",
    "        # array, shape = (n_components,)\n",
    "        self.explained_variance_ = None\n",
    "\n",
    "        # array, shape = (n_components,)\n",
    "        self.explained_variance_ratio = None\n",
    "\n",
    "        # array, shape = (n_compnents, n_features)\n",
    "        self.components_ = None\n",
    "\n",
    "        # array, shape = (n_comonents,)\n",
    "        self.singular_values_ = None\n",
    "\n",
    "        # array, shape = (n_features,)\n",
    "        self.mean_ = None\n",
    "\n",
    "    def fit_transform(self, X):\n",
    "        \"\"\"[summary]\n",
    "\n",
    "        Arguments:\n",
    "            X {[array]} -- [shape = (n_samples, n_features)]\n",
    "        \"\"\"\n",
    "        # mean normalization\n",
    "        self.mean_ = X.mean(axis=1,keepdims=True)\n",
    "        X = X - self.mean_\n",
    "\n",
    "        # covariance matrix\n",
    "        sigma = X @ X.T\n",
    "\n",
    "        # singular value decompsition\n",
    "        # sigma = u @ s @ vh\n",
    "        # u 2D-array, s 1D-array, vh 2D-array\n",
    "        u, s, vh = np.linalg.svd(sigma)\n",
    "        self.components_ = u[:, :self.n_components]\n",
    "        self.explained_variance_ = s[:self.n_components]\n",
    "        self.explained_variance_ratio = self.explained_variance_ / self.explained_variance_.sum() \n",
    "        self.singular_values_ = s\n",
    "        return self.components_.T @ X"
   ]
  },
  {
   "cell_type": "code",
   "execution_count": null,
   "metadata": {
    "hidden": true
   },
   "outputs": [],
   "source": [
    "X, y = datasets.load_iris(return_X_y=True)\n",
    "X = X.T\n",
    "pca1 = PCA(3)\n",
    "X_ = pca1.fit_transform(X)\n",
    "print(pca1.explained_variance_ratio)\n",
    "\n",
    "fig = plt.figure()\n",
    "ax = Axes3D(fig)\n",
    "ax.scatter(X_[0,:],X_[1,:],X_[2,:],c = y)\n",
    "fig.show()\n"
   ]
  },
  {
   "cell_type": "code",
   "execution_count": null,
   "metadata": {
    "hidden": true
   },
   "outputs": [],
   "source": [
    "pca2 = PCA(2)\n",
    "X_2 = pca2.fit_transform(X)\n",
    "fig, ax = plt.subplots()\n",
    "ax.scatter(X_2[0,],X_2[1, ],c = y)\n",
    "ax.grid(linestyle=\"--\")\n",
    "fig.show()"
   ]
  },
  {
   "cell_type": "markdown",
   "metadata": {},
   "source": [
    "# Decision Tree"
   ]
  },
  {
   "cell_type": "code",
   "execution_count": 3,
   "metadata": {
    "ExecuteTime": {
     "end_time": "2020-02-07T05:03:08.718471Z",
     "start_time": "2020-02-07T05:03:07.835628Z"
    }
   },
   "outputs": [
    {
     "name": "stderr",
     "output_type": "stream",
     "text": [
      "C:\\Users\\Administrator\\Anaconda3\\lib\\importlib\\_bootstrap.py:219: RuntimeWarning: numpy.ufunc size changed, may indicate binary incompatibility. Expected 192 from C header, got 216 from PyObject\n",
      "  return f(*args, **kwds)\n",
      "C:\\Users\\Administrator\\Anaconda3\\lib\\importlib\\_bootstrap.py:219: RuntimeWarning: numpy.ufunc size changed, may indicate binary incompatibility. Expected 192 from C header, got 216 from PyObject\n",
      "  return f(*args, **kwds)\n",
      "C:\\Users\\Administrator\\Anaconda3\\lib\\importlib\\_bootstrap.py:219: RuntimeWarning: numpy.ufunc size changed, may indicate binary incompatibility. Expected 192 from C header, got 216 from PyObject\n",
      "  return f(*args, **kwds)\n"
     ]
    }
   ],
   "source": [
    "import numpy as np\n",
    "import pandas as pd\n",
    "from sklearn import datasets\n",
    "import matplotlib .pyplot as plt\n",
    "%matplotlib inline "
   ]
  },
  {
   "cell_type": "code",
   "execution_count": 4,
   "metadata": {
    "ExecuteTime": {
     "end_time": "2020-02-07T05:03:10.908704Z",
     "start_time": "2020-02-07T05:03:10.901431Z"
    }
   },
   "outputs": [],
   "source": [
    "from decisiontree import DecisionTree"
   ]
  },
  {
   "cell_type": "code",
   "execution_count": 23,
   "metadata": {
    "ExecuteTime": {
     "end_time": "2020-02-07T05:14:19.254020Z",
     "start_time": "2020-02-07T05:14:19.230015Z"
    }
   },
   "outputs": [
    {
     "data": {
      "text/html": [
       "<div>\n",
       "<style scoped>\n",
       "    .dataframe tbody tr th:only-of-type {\n",
       "        vertical-align: middle;\n",
       "    }\n",
       "\n",
       "    .dataframe tbody tr th {\n",
       "        vertical-align: top;\n",
       "    }\n",
       "\n",
       "    .dataframe thead th {\n",
       "        text-align: right;\n",
       "    }\n",
       "</style>\n",
       "<table border=\"1\" class=\"dataframe\">\n",
       "  <thead>\n",
       "    <tr style=\"text-align: right;\">\n",
       "      <th></th>\n",
       "      <th>编号</th>\n",
       "      <th>色泽</th>\n",
       "      <th>根蒂</th>\n",
       "      <th>敲声</th>\n",
       "      <th>纹理</th>\n",
       "      <th>脐部</th>\n",
       "      <th>触感</th>\n",
       "      <th>密度</th>\n",
       "      <th>含糖率</th>\n",
       "      <th>好瓜</th>\n",
       "      <th>序关系</th>\n",
       "    </tr>\n",
       "  </thead>\n",
       "  <tbody>\n",
       "    <tr>\n",
       "      <th>0</th>\n",
       "      <td>1</td>\n",
       "      <td>青绿</td>\n",
       "      <td>蜷缩</td>\n",
       "      <td>浊响</td>\n",
       "      <td>清晰</td>\n",
       "      <td>凹陷</td>\n",
       "      <td>硬滑</td>\n",
       "      <td>0.697</td>\n",
       "      <td>0.460</td>\n",
       "      <td>是</td>\n",
       "      <td>1</td>\n",
       "    </tr>\n",
       "    <tr>\n",
       "      <th>1</th>\n",
       "      <td>2</td>\n",
       "      <td>乌黑</td>\n",
       "      <td>蜷缩</td>\n",
       "      <td>沉闷</td>\n",
       "      <td>清晰</td>\n",
       "      <td>凹陷</td>\n",
       "      <td>硬滑</td>\n",
       "      <td>0.774</td>\n",
       "      <td>0.376</td>\n",
       "      <td>是</td>\n",
       "      <td>1</td>\n",
       "    </tr>\n",
       "    <tr>\n",
       "      <th>2</th>\n",
       "      <td>3</td>\n",
       "      <td>乌黑</td>\n",
       "      <td>蜷缩</td>\n",
       "      <td>浊响</td>\n",
       "      <td>清晰</td>\n",
       "      <td>凹陷</td>\n",
       "      <td>硬滑</td>\n",
       "      <td>0.634</td>\n",
       "      <td>0.264</td>\n",
       "      <td>是</td>\n",
       "      <td>1</td>\n",
       "    </tr>\n",
       "    <tr>\n",
       "      <th>3</th>\n",
       "      <td>4</td>\n",
       "      <td>青绿</td>\n",
       "      <td>蜷缩</td>\n",
       "      <td>沉闷</td>\n",
       "      <td>清晰</td>\n",
       "      <td>凹陷</td>\n",
       "      <td>硬滑</td>\n",
       "      <td>0.608</td>\n",
       "      <td>0.318</td>\n",
       "      <td>是</td>\n",
       "      <td>1</td>\n",
       "    </tr>\n",
       "    <tr>\n",
       "      <th>4</th>\n",
       "      <td>5</td>\n",
       "      <td>浅白</td>\n",
       "      <td>蜷缩</td>\n",
       "      <td>浊响</td>\n",
       "      <td>清晰</td>\n",
       "      <td>凹陷</td>\n",
       "      <td>硬滑</td>\n",
       "      <td>0.556</td>\n",
       "      <td>0.215</td>\n",
       "      <td>是</td>\n",
       "      <td>1</td>\n",
       "    </tr>\n",
       "  </tbody>\n",
       "</table>\n",
       "</div>"
      ],
      "text/plain": [
       "   编号  色泽  根蒂  敲声  纹理  脐部  触感     密度    含糖率 好瓜  序关系\n",
       "0   1  青绿  蜷缩  浊响  清晰  凹陷  硬滑  0.697  0.460  是    1\n",
       "1   2  乌黑  蜷缩  沉闷  清晰  凹陷  硬滑  0.774  0.376  是    1\n",
       "2   3  乌黑  蜷缩  浊响  清晰  凹陷  硬滑  0.634  0.264  是    1\n",
       "3   4  青绿  蜷缩  沉闷  清晰  凹陷  硬滑  0.608  0.318  是    1\n",
       "4   5  浅白  蜷缩  浊响  清晰  凹陷  硬滑  0.556  0.215  是    1"
      ]
     },
     "execution_count": 23,
     "metadata": {},
     "output_type": "execute_result"
    }
   ],
   "source": [
    "df = pd.read_csv(\"watermaleon.csv\", encoding=\"ansi\")\n",
    "X = df[['色泽', '根蒂', '敲声', '纹理', '脐部', '触感', '密度', '含糖率']].to_numpy()\n",
    "y = df['好瓜'].values\n",
    "df.head()"
   ]
  },
  {
   "cell_type": "code",
   "execution_count": 6,
   "metadata": {
    "ExecuteTime": {
     "end_time": "2020-02-07T05:03:16.210646Z",
     "start_time": "2020-02-07T05:03:16.200641Z"
    }
   },
   "outputs": [],
   "source": [
    "from sklearn.utils.multiclass import type_of_target"
   ]
  },
  {
   "cell_type": "code",
   "execution_count": 9,
   "metadata": {
    "ExecuteTime": {
     "end_time": "2020-02-07T05:03:39.380650Z",
     "start_time": "2020-02-07T05:03:39.375652Z"
    }
   },
   "outputs": [
    {
     "data": {
      "text/plain": [
       "True"
      ]
     },
     "execution_count": 9,
     "metadata": {},
     "output_type": "execute_result"
    }
   ],
   "source": [
    "type_of_target(X[:,6]) == \"unknown\""
   ]
  },
  {
   "cell_type": "markdown",
   "metadata": {
    "heading_collapsed": true
   },
   "source": [
    "# 巨坑"
   ]
  },
  {
   "cell_type": "markdown",
   "metadata": {
    "heading_collapsed": true,
    "hidden": true
   },
   "source": [
    "## 数组的维度和广播 "
   ]
  },
  {
   "cell_type": "code",
   "execution_count": null,
   "metadata": {
    "hidden": true
   },
   "outputs": [],
   "source": [
    "np.random.seed(1)\n",
    "a = np.random.normal(size= (2,1))\n",
    "np.random.seed(1)\n",
    "b = np.random.normal(size= 2)\n",
    "print(\"a: \", a)\n",
    "print(\"b: \", b)\n",
    "print(a == b)\n",
    "print(a.squeeze() == b)"
   ]
  }
 ],
 "metadata": {
  "file_extension": ".py",
  "kernelspec": {
   "display_name": "Python 3.7.4 64-bit ('base': conda)",
   "language": "python",
   "name": "python37464bitbasecondabd1831ffb7964724bc3720380b7d9c09"
  },
  "language_info": {
   "codemirror_mode": {
    "name": "ipython",
    "version": 3
   },
   "file_extension": ".py",
   "mimetype": "text/x-python",
   "name": "python",
   "nbconvert_exporter": "python",
   "pygments_lexer": "ipython3",
   "version": "3.7.4"
  },
  "mimetype": "text/x-python",
  "name": "python",
  "npconvert_exporter": "python",
  "pygments_lexer": "ipython3",
  "toc": {
   "base_numbering": 1,
   "nav_menu": {},
   "number_sections": true,
   "sideBar": true,
   "skip_h1_title": false,
   "title_cell": "Table of Contents",
   "title_sidebar": "Contents",
   "toc_cell": false,
   "toc_position": {
    "height": "calc(100% - 180px)",
    "left": "10px",
    "top": "150px",
    "width": "239.306px"
   },
   "toc_section_display": true,
   "toc_window_display": true
  },
  "version": 3
 },
 "nbformat": 4,
 "nbformat_minor": 2
}
