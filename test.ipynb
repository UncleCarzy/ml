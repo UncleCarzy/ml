{
 "cells": [
  {
   "cell_type": "code",
   "execution_count": 1,
   "metadata": {
    "ExecuteTime": {
     "end_time": "2020-02-11T06:17:24.611735Z",
     "start_time": "2020-02-11T06:17:23.929760Z"
    }
   },
   "outputs": [],
   "source": [
    "import matplotlib.pyplot as plt\n",
    "import pandas as pd\n",
    "%matplotlib inline\n",
    "plt.rcParams['font.sans-serif'] = ['SimHei']  # 用来正常显示中文标签\n",
    "plt.rcParams['axes.unicode_minus'] = False  # 用来正常显示负号"
   ]
  },
  {
   "cell_type": "code",
   "execution_count": 2,
   "metadata": {
    "ExecuteTime": {
     "end_time": "2020-02-11T06:15:19.004044Z",
     "start_time": "2020-02-11T06:15:18.827682Z"
    }
   },
   "outputs": [
    {
     "ename": "ModuleNotFoundError",
     "evalue": "No module named 'decisiontree'",
     "output_type": "error",
     "traceback": [
      "\u001b[1;31m---------------------------------------------------------------------------\u001b[0m",
      "\u001b[1;31mModuleNotFoundError\u001b[0m                       Traceback (most recent call last)",
      "\u001b[1;32m<ipython-input-2-2923786530f0>\u001b[0m in \u001b[0;36m<module>\u001b[1;34m\u001b[0m\n\u001b[1;32m----> 1\u001b[1;33m \u001b[1;32mfrom\u001b[0m \u001b[0mdecisiontree\u001b[0m \u001b[1;32mimport\u001b[0m \u001b[0mDecisionTree\u001b[0m\u001b[1;33m\u001b[0m\u001b[1;33m\u001b[0m\u001b[0m\n\u001b[0m\u001b[0;32m      2\u001b[0m \u001b[1;32mfrom\u001b[0m \u001b[0msklearn\u001b[0m \u001b[1;32mimport\u001b[0m \u001b[0mdatasets\u001b[0m\u001b[1;33m\u001b[0m\u001b[1;33m\u001b[0m\u001b[0m\n",
      "\u001b[1;31mModuleNotFoundError\u001b[0m: No module named 'decisiontree'"
     ]
    }
   ],
   "source": [
    "from decisiontree import DecisionTree\n",
    "from sklearn import datasets"
   ]
  },
  {
   "cell_type": "code",
   "execution_count": null,
   "metadata": {
    "ExecuteTime": {
     "end_time": "2020-02-11T06:15:19.007020Z",
     "start_time": "2020-02-11T06:15:18.030Z"
    }
   },
   "outputs": [],
   "source": [
    "data = datasets.load_iris(return_X_y=False)\n",
    "X = data[\"data\"]\n",
    "y = data[\"target\"]\n",
    "feature_names = data[\"feature_names\"]"
   ]
  },
  {
   "cell_type": "code",
   "execution_count": null,
   "metadata": {
    "ExecuteTime": {
     "end_time": "2020-02-11T06:15:19.009019Z",
     "start_time": "2020-02-11T06:15:18.033Z"
    }
   },
   "outputs": [],
   "source": [
    "clf = DecisionTree()\n",
    "clf.fit(X,y)\n",
    "y_ = clf.predict(X)\n",
    "print((y_ == y).mean())"
   ]
  },
  {
   "cell_type": "code",
   "execution_count": null,
   "metadata": {
    "ExecuteTime": {
     "end_time": "2020-02-11T06:15:19.011018Z",
     "start_time": "2020-02-11T06:15:18.036Z"
    },
    "code_folding": [
     26
    ]
   },
   "outputs": [],
   "source": [
    "def plot_node(ax, text, center_pos, parent_pos, leaf_node=True):\n",
    "    \"\"\"\n",
    "    xy(parent_pos) -> xytext(center_pos)\n",
    "    \"\"\"\n",
    "    decision_node_style = {\"arrowstyle\": \"<|-\"}\n",
    "\n",
    "    bbox_props = {\n",
    "        \"boxstyle\": \"round,pad=0.3\",\n",
    "        \"fc\": (\"green\" if leaf_node else \"brown\"),\n",
    "        \"ec\": \"k\",\n",
    "        \"lw\": 2\n",
    "    }\n",
    "\n",
    "    kw = {\n",
    "        \"s\": text,\n",
    "        \"xy\": parent_pos,\n",
    "        \"xytext\": center_pos,\n",
    "        \"arrowprops\": decision_node_style,\n",
    "        \"bbox\": bbox_props,\n",
    "        \"ha\": \"center\",\n",
    "        \"va\": \"center\",\n",
    "    }\n",
    "    ax.annotate(**kw)\n",
    "\n",
    "\n",
    "def plot_mid_text(ax, text, center_pos, parent_pos):\n",
    "    x = (center_pos[0] - parent_pos[0]) / 2 + parent_pos[0]\n",
    "    y = (center_pos[1] - parent_pos[1]) / 2 + parent_pos[1]\n",
    "    ax.text(x, y, text)\n",
    "\n",
    "\n",
    "def plot_tree(ax, tree, text, parent_pos, p):\n",
    "\n",
    "    leaf_num = tree.leaf_num\n",
    "    center_pos = (p[\"x_off\"] + (1 + leaf_num) /\n",
    "                  (2 * p[\"total_leaf_num\"]), p[\"y_off\"])\n",
    "\n",
    "    plot_node(ax, tree.feature_index, center_pos, parent_pos, False)\n",
    "    plot_mid_text(ax, text, center_pos, parent_pos)\n",
    "\n",
    "    p[\"y_off\"] -= 1 / p[\"total_hight\"]\n",
    "    for key in tree.subtree.keys():\n",
    "        if tree.subtree[key].is_leaf:\n",
    "            p[\"x_off\"] += 1 / p[\"total_leaf_num\"]\n",
    "            x_off = p[\"x_off\"]\n",
    "            y_off = p[\"y_off\"]\n",
    "            plot_node(ax, str(tree.subtree[key].leaf_class),\n",
    "                      (x_off, y_off), center_pos, True)\n",
    "            plot_mid_text(ax, key, (x_off, y_off), center_pos)\n",
    "        else:\n",
    "            plot_tree(ax, tree.subtree[key], key, center_pos, p)\n",
    "    p[\"y_off\"] += 1 / p[\"total_hight\"]\n",
    "\n",
    "\n",
    "def plot_decisionTree(tree):\n",
    "    p = {\n",
    "        \"x_off\": - 1.0 / (2 * tree.leaf_num),\n",
    "        \"y_off\": 1.0,\n",
    "        \"total_leaf_num\": tree.leaf_num,\n",
    "        \"total_hight\": tree.hight\n",
    "    }\n",
    "    fig, ax = plt.subplots()\n",
    "    ax.set_axis_off()\n",
    "    plot_tree(ax, tree, \"\", (0.5, 1.0), p)"
   ]
  },
  {
   "cell_type": "code",
   "execution_count": null,
   "metadata": {
    "ExecuteTime": {
     "end_time": "2020-02-11T06:15:19.013017Z",
     "start_time": "2020-02-11T06:15:18.039Z"
    }
   },
   "outputs": [],
   "source": [
    "plot_decisionTree(clf.my_tree)"
   ]
  },
  {
   "cell_type": "code",
   "execution_count": 2,
   "metadata": {
    "ExecuteTime": {
     "end_time": "2020-02-11T06:18:04.358845Z",
     "start_time": "2020-02-11T06:18:04.340077Z"
    }
   },
   "outputs": [],
   "source": [
    "df = pd.read_csv(\"watermaleon.csv\",encoding=\"ansi\")"
   ]
  },
  {
   "cell_type": "code",
   "execution_count": 4,
   "metadata": {
    "ExecuteTime": {
     "end_time": "2020-02-11T06:18:16.806352Z",
     "start_time": "2020-02-11T06:18:16.800352Z"
    }
   },
   "outputs": [
    {
     "data": {
      "text/plain": [
       "Index(['编号', '色泽', '根蒂', '敲声', '纹理', '脐部', '触感', '密度', '含糖率', '好瓜', '序关系'], dtype='object')"
      ]
     },
     "execution_count": 4,
     "metadata": {},
     "output_type": "execute_result"
    }
   ],
   "source": [
    "df.columns"
   ]
  }
 ],
 "metadata": {
  "file_extension": ".py",
  "kernelspec": {
   "display_name": "Python 3.7.4 64-bit ('base': conda)",
   "language": "python",
   "name": "python37464bitbasecondabd1831ffb7964724bc3720380b7d9c09"
  },
  "language_info": {
   "codemirror_mode": {
    "name": "ipython",
    "version": 3
   },
   "file_extension": ".py",
   "mimetype": "text/x-python",
   "name": "python",
   "nbconvert_exporter": "python",
   "pygments_lexer": "ipython3",
   "version": "3.7.4"
  },
  "mimetype": "text/x-python",
  "name": "python",
  "npconvert_exporter": "python",
  "pygments_lexer": "ipython3",
  "toc": {
   "base_numbering": 1,
   "nav_menu": {},
   "number_sections": true,
   "sideBar": true,
   "skip_h1_title": false,
   "title_cell": "Table of Contents",
   "title_sidebar": "Contents",
   "toc_cell": false,
   "toc_position": {},
   "toc_section_display": true,
   "toc_window_display": false
  },
  "version": 3
 },
 "nbformat": 4,
 "nbformat_minor": 4
}
